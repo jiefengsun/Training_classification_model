{
 "cells": [
  {
   "cell_type": "markdown",
   "id": "df830fcd",
   "metadata": {},
   "source": [
    "This function will automatically extract all the frames and send 1/10 frames into the `val` folder. \n",
    "\n",
    "To get enough data for one class, I will record a video of 1 mins at the rate of 30 fps. \n",
    "It will allow me to have toally 30*60 = 1800 images to works on. \n",
    "I will set the interval as 2 so that I have totally 900 images to work with. \n",
    "\n",
    "\n",
    "The toall images for a class will be about 1.5G, for 4 classes, I will need 6 G space, which should be good. "
   ]
  },
  {
   "cell_type": "code",
   "execution_count": 1,
   "id": "32673282",
   "metadata": {},
   "outputs": [],
   "source": [
    "import cv2\n",
    "import os\n",
    "\n",
    "def extract_frames(video_path, class_name, output_dir, interval=1):\n",
    "    # Open the video file using OpenCV\n",
    "    video = cv2.VideoCapture(video_path)\n",
    "    \n",
    "    # Create the output directory if it doesn't exist\n",
    "    os.makedirs(output_dir, exist_ok=True)\n",
    "    \n",
    "    # Loop through the frames and extract every nth frame\n",
    "    frame_count = 0\n",
    "    frame_count_val = 0\n",
    "  \n",
    "    while True:\n",
    "        # Read the next frame from the video\n",
    "        ret, frame = video.read()\n",
    "        if not ret:\n",
    "            print(\"End of frames\")\n",
    "            break\n",
    "        \n",
    "        # Extract frames at the specified interval\n",
    "        if frame_count % interval == 0:\n",
    "            # put one of ten images into 'test' folder\n",
    "            if frame_count_val % 8 == 0:\n",
    "                output_folder = os.path.join(output_dir, 'val', class_name)\n",
    "                output_path = os.path.join(output_folder, f'frame_{frame_count:04d}.jpg')\n",
    "            else: # Construct the output filename\n",
    "                output_folder = os.path.join(output_dir, 'train', class_name)\n",
    "                output_path = os.path.join(output_folder, f'frame_{frame_count:04d}.jpg')\n",
    "            \n",
    "            frame_count_val += 1\n",
    "            # Resize the frame to a fixed size if necessary\n",
    "            # frame = cv2.resize(frame, (224, 224))\n",
    "            \n",
    "            # see if folder exist, create one\n",
    "            os.makedirs(output_folder, exist_ok=True)\n",
    "            \n",
    "            # Save the frame as an image file\n",
    "            cv2.imwrite(output_path, frame)\n",
    "            #print(output_path)\n",
    "\n",
    "        frame_count += 1\n",
    "    \n",
    "    # Release the video file and close the output file\n",
    "    video.release()\n",
    "\n"
   ]
  },
  {
   "cell_type": "markdown",
   "id": "c82bb9cd",
   "metadata": {},
   "source": [
    "The code below will loop through the four videos in the `video` folder\n",
    "\n",
    "This file should be in the folder called `calssification`\n",
    "Here is the structure of the folder:\n",
    "\n",
    "``````\n",
    "\n",
    "\n",
    "classification   \n",
    "  - Extract_frames-3-15-2023.ipynb\n",
    "  - videos\n",
    "    - task1\n",
    "       - class1.mov\n",
    "       - class2.mov\n",
    "       ....\n",
    "    - task2\n",
    "       - class1.mov\n",
    "       - class2.mov\n",
    "       ....\n",
    "       \n",
    "  - data  \n",
    "    - task1\n",
    "       - train   \n",
    "           - class1  \n",
    "           - class2 \n",
    "       - val  \n",
    "           - class1  \n",
    "           - class2  \n",
    "    - task2\n",
    "           - class1  \n",
    "           - class2 \n",
    "       - val  \n",
    "           - class1  \n",
    "           - class2  \n",
    "``````\n",
    "      "
   ]
  },
  {
   "cell_type": "code",
   "execution_count": 2,
   "id": "6a77f147",
   "metadata": {},
   "outputs": [
    {
     "name": "stdout",
     "output_type": "stream",
     "text": [
      "End of frames\n",
      "Finish one class\n",
      "End of frames\n",
      "Finish one class\n",
      "End of frames\n",
      "Finish one class\n"
     ]
    }
   ],
   "source": [
    "#video_names_list = ['carpet', 'lab_white', 'corridor_white', 'hall_red']\n",
    "#video_names_list = ['carpet', 'lab_white', 'corridor_white', 'hall_red']\n",
    "import os\n",
    "path = '../videos'\n",
    "for video_path in os.listdir(path): ## all the videos in the directory\n",
    "    video_name = os.path.splitext(video_path)[0]   \n",
    "    class_name = video_name\n",
    "    output_dir = '../data/terrains_outdoor'\n",
    "    # obtain the relative path to open the file. \n",
    "    video_path = os.path.join(path,video_path)\n",
    "    # call the function to extract the frames. \n",
    "    extract_frames(video_path, class_name, output_dir, interval=1) \n",
    "    print('Finish one class')\n",
    "    # verify the path with the `print`\n",
    "    #print(f'Here are th path: {video_path}, {class_name}, {output_dir}')\n",
    "    "
   ]
  },
  {
   "cell_type": "markdown",
   "id": "3ac6b5d8",
   "metadata": {},
   "source": [
    "Distribute dataset\n",
    "---"
   ]
  },
  {
   "cell_type": "code",
   "execution_count": null,
   "id": "72402663",
   "metadata": {},
   "outputs": [],
   "source": []
  }
 ],
 "metadata": {
  "kernelspec": {
   "display_name": "Python 3",
   "language": "python",
   "name": "python3"
  },
  "language_info": {
   "codemirror_mode": {
    "name": "ipython",
    "version": 3
   },
   "file_extension": ".py",
   "mimetype": "text/x-python",
   "name": "python",
   "nbconvert_exporter": "python",
   "pygments_lexer": "ipython3",
   "version": "3.8.16"
  }
 },
 "nbformat": 4,
 "nbformat_minor": 5
}
